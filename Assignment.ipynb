{
 "cells": [
  {
   "cell_type": "markdown",
   "id": "e024dc2d",
   "metadata": {},
   "source": [
    "Que 1-  Write a Python program to replace all occurrences of a space, comma, or dot with a colon."
   ]
  },
  {
   "cell_type": "code",
   "execution_count": 92,
   "id": "a76fd88c",
   "metadata": {},
   "outputs": [
    {
     "name": "stdout",
     "output_type": "stream",
     "text": [
      "Python:Exercises::PHP:exercises:\n"
     ]
    }
   ],
   "source": [
    "def replace_characters_with_colon(text):\n",
    "    # Define a set of characters to be replaced\n",
    "    characters_to_replace = [' ', ',', '.']\n",
    "    \n",
    "    # Replace each character with a colon\n",
    "    for char in characters_to_replace:\n",
    "        text = text.replace(char, ':')\n",
    "    \n",
    "    return text\n",
    "\n",
    "sample_text = 'Python Exercises, PHP exercises.'\n",
    "result = replace_characters_with_colon(sample_text)\n",
    "print(result)"
   ]
  },
  {
   "cell_type": "markdown",
   "id": "9d4395bd",
   "metadata": {},
   "source": [
    "Que 2 - Write a Python program to find all words starting with 'a' or 'e' in a given string."
   ]
  },
  {
   "cell_type": "code",
   "execution_count": 93,
   "id": "3cb43597",
   "metadata": {},
   "outputs": [
    {
     "name": "stdout",
     "output_type": "stream",
     "text": [
      "['Apples', 'are', 'awesome', 'and', 'elephants', 'are', 'elegant']\n"
     ]
    }
   ],
   "source": [
    "import re\n",
    "\n",
    "def find_words_starting_with_a_or_e(text):\n",
    "    words = re.findall(r'\\b[aeAE]\\w+\\b', text)\n",
    "    return words\n",
    "\n",
    "sample_text = \"Apples are awesome and elephants are elegant.\"\n",
    "result = find_words_starting_with_a_or_e(sample_text)\n",
    "print(result)"
   ]
  },
  {
   "cell_type": "markdown",
   "id": "ff1bda60",
   "metadata": {},
   "source": [
    "Que 3- Create a function in python to find all words that are at least 4 characters long in a string. The use of the re.compile() method is mandatory."
   ]
  },
  {
   "cell_type": "code",
   "execution_count": 94,
   "id": "1cd911f4",
   "metadata": {},
   "outputs": [
    {
     "name": "stdout",
     "output_type": "stream",
     "text": [
      "['Negative', 'Mind', 'will', 'never', 'give', 'positive', 'life']\n"
     ]
    }
   ],
   "source": [
    "import re\n",
    "\n",
    "def find_words_at_least_4_characters(text):\n",
    "    pattern = re.compile(r'\\b\\w{4,}\\b')\n",
    "    words = pattern.findall(text)\n",
    "    return words\n",
    "\n",
    "sample_text = \"A Negative Mind will never give you a positive life.\"\n",
    "result = find_words_at_least_4_characters(sample_text)\n",
    "print(result)"
   ]
  },
  {
   "cell_type": "code",
   "execution_count": null,
   "id": "ba358b08",
   "metadata": {},
   "outputs": [],
   "source": []
  },
  {
   "cell_type": "markdown",
   "id": "c753479c",
   "metadata": {},
   "source": [
    " Que 4 - Create a function in python to find all three, four, and five character words in a string. The use of the re.compile() method is mandatory."
   ]
  },
  {
   "cell_type": "code",
   "execution_count": 95,
   "id": "84c71ed1",
   "metadata": {},
   "outputs": [
    {
     "name": "stdout",
     "output_type": "stream",
     "text": [
      "['Mind', 'will', 'never', 'give', 'you', 'life']\n"
     ]
    }
   ],
   "source": [
    "import re\n",
    "\n",
    "def find_words_of_length_3_4_5(text):\n",
    "    pattern = re.compile(r'\\b\\w{3,5}\\b')\n",
    "    words = pattern.findall(text)\n",
    "    return words\n",
    "\n",
    "sample_text = \"A Negative Mind will never give you a positive life.\"\n",
    "result = find_words_of_length_3_4_5(sample_text)\n",
    "print(result)"
   ]
  },
  {
   "cell_type": "code",
   "execution_count": null,
   "id": "642bc793",
   "metadata": {},
   "outputs": [],
   "source": []
  },
  {
   "cell_type": "markdown",
   "id": "54d76fef",
   "metadata": {},
   "source": [
    "Que 5 - Create a function in Python to remove the parenthesis in a list of strings. The use of the re.compile() method is mandatory."
   ]
  },
  {
   "cell_type": "code",
   "execution_count": 96,
   "id": "0a03b100",
   "metadata": {},
   "outputs": [
    {
     "name": "stdout",
     "output_type": "stream",
     "text": [
      "example\n",
      "hr@fliprobo\n",
      "github\n",
      "Hello\n",
      "Data\n"
     ]
    }
   ],
   "source": [
    "import re\n",
    "\n",
    "def remove_parentheses(strings):\n",
    "    pattern = re.compile(r'\\s*\\([^)]*\\)\\s*')\n",
    "    modified_strings = [pattern.sub('', string) for string in strings]\n",
    "    return modified_strings\n",
    "\n",
    "sample_text = [\n",
    "    \"example (.com)\",\n",
    "    \"hr@fliprobo (.com)\",\n",
    "    \"github (.com)\",\n",
    "    \"Hello (Data Science World)\",\n",
    "    \"Data (Scientist)\"\n",
    "]\n",
    "\n",
    "result = remove_parentheses(sample_text)\n",
    "for modified_string in result:\n",
    "    print(modified_string)\n"
   ]
  },
  {
   "cell_type": "code",
   "execution_count": null,
   "id": "a44445e9",
   "metadata": {},
   "outputs": [],
   "source": []
  },
  {
   "cell_type": "markdown",
   "id": "1043d09b",
   "metadata": {},
   "source": [
    "Que 6- Write a python program to remove the parenthesis area from the text stored in the text file using Regular Expression."
   ]
  },
  {
   "cell_type": "code",
   "execution_count": null,
   "id": "ce242767",
   "metadata": {},
   "outputs": [],
   "source": []
  },
  {
   "cell_type": "markdown",
   "id": "d0d07bf8",
   "metadata": {},
   "source": [
    "Que 7 - Write a regular expression in Python to split a string into uppercase letters."
   ]
  },
  {
   "cell_type": "code",
   "execution_count": 99,
   "id": "6c377975",
   "metadata": {},
   "outputs": [
    {
     "name": "stdout",
     "output_type": "stream",
     "text": [
      "['Importance', 'Of', 'Regular', 'Expressions', 'In', 'Python']\n"
     ]
    }
   ],
   "source": [
    "import re\n",
    "\n",
    "sample_text = \"ImportanceOfRegularExpressionsInPython\"\n",
    "result = re.findall(r'[A-Z][a-z]*', sample_text)\n",
    "\n",
    "print(result)"
   ]
  },
  {
   "cell_type": "markdown",
   "id": "43ecbf27",
   "metadata": {},
   "source": [
    "Question 8- Create a function in python to insert spaces between words starting with numbers."
   ]
  },
  {
   "cell_type": "code",
   "execution_count": 98,
   "id": "e1994f91",
   "metadata": {},
   "outputs": [
    {
     "name": "stdout",
     "output_type": "stream",
     "text": [
      "RegularExpression1 IsAn2 ImportantTopic3 InPython\n"
     ]
    }
   ],
   "source": [
    "import re\n",
    "\n",
    "def insert_spaces_before_numbers(text):\n",
    "    result = re.sub(r'([0-9])([A-Za-z])', r'\\1 \\2', text)\n",
    "    return result\n",
    "\n",
    "sample_text = \"RegularExpression1IsAn2ImportantTopic3InPython\"\n",
    "output = insert_spaces_before_numbers(sample_text)\n",
    "print(output)"
   ]
  },
  {
   "cell_type": "markdown",
   "id": "2bd1cc69",
   "metadata": {},
   "source": [
    "Que 9 - Create a function in python to insert spaces between words starting with capital letters or with numbers."
   ]
  },
  {
   "cell_type": "code",
   "execution_count": 100,
   "id": "c4281e44",
   "metadata": {},
   "outputs": [
    {
     "name": "stdout",
     "output_type": "stream",
     "text": [
      "RegularExpression1 IsAn2 ImportantTopic3 InPython\n"
     ]
    }
   ],
   "source": [
    "import re\n",
    "\n",
    "def insert_spaces_before_capitals_and_numbers(text):\n",
    "    result = re.sub(r'([A-Z0-9])([a-z])', r'\\1 \\2', text)\n",
    "    return result\n",
    "\n",
    "sample_text = \"RegularExpression1IsAn2ImportantTopic3InPython\"\n",
    "\n",
    "print(output)"
   ]
  },
  {
   "cell_type": "markdown",
   "id": "f9ba1b74",
   "metadata": {},
   "source": [
    "Question 10- Write a python program to extract email address from the text stored in the text file using Regular Expression."
   ]
  },
  {
   "cell_type": "code",
   "execution_count": null,
   "id": "a5447b56",
   "metadata": {},
   "outputs": [],
   "source": []
  },
  {
   "cell_type": "markdown",
   "id": "c4c17a4f",
   "metadata": {},
   "source": [
    "Que 11- Write a Python program to match a string that contains only upper and lowercase letters, numbers, and underscores."
   ]
  },
  {
   "cell_type": "code",
   "execution_count": 112,
   "id": "60600e6d",
   "metadata": {},
   "outputs": [
    {
     "name": "stdout",
     "output_type": "stream",
     "text": [
      "'Vikram_Sayaji_123' is a valid string.\n",
      "'Vikram_sayaji_Karande' is a valid string.\n",
      "'Vikram_karande!' is not a valid string.\n",
      "'Vikram123' is a valid string.\n",
      "'Vikram_Sayaji_karande_123' is a valid string.\n"
     ]
    }
   ],
   "source": [
    "import re\n",
    "\n",
    "def is_valid_string(input_string):\n",
    "    pattern = re.compile(r'^[A-Za-z0-9_]+$')\n",
    "    return bool(pattern.match(input_string))\n",
    "\n",
    "test_strings = [\n",
    "    \"Vikram_Sayaji_123\",\n",
    "    \"Vikram_sayaji_Karande\",\n",
    "    \"Vikram_karande!\",\n",
    "    \"Vikram123\",\n",
    "    \"Vikram_Sayaji_karande_123\"\n",
    "]\n",
    "\n",
    "for string in test_strings:\n",
    "    if is_valid_string(string):\n",
    "        print(f\"'{string}' is a valid string.\")\n",
    "    else:\n",
    "        print(f\"'{string}' is not a valid string.\")\n"
   ]
  },
  {
   "cell_type": "markdown",
   "id": "c2eaadac",
   "metadata": {},
   "source": [
    "Question 12- Write a Python program where a string will start with a specific number. "
   ]
  },
  {
   "cell_type": "code",
   "execution_count": 113,
   "id": "898544cb",
   "metadata": {},
   "outputs": [
    {
     "name": "stdout",
     "output_type": "stream",
     "text": [
      "'1992Vikram' does not start with 123.\n",
      "'2017Viraj' does not start with 123.\n",
      "'1994Pooja' does not start with 123.\n",
      "'Vikram1992' does not start with 123.\n",
      "'999End' does not start with 123.\n"
     ]
    }
   ],
   "source": [
    "import re\n",
    "\n",
    "def starts_with_number(input_string, number):\n",
    "    pattern = re.compile(r'^' + str(number))\n",
    "    return bool(pattern.match(input_string))\n",
    "\n",
    "test_strings = [\n",
    "    \"1992Vikram\",\n",
    "    \"2017Viraj\",\n",
    "    \"1994Pooja\",\n",
    "    \"Vikram1992\",\n",
    "    \"999End\"\n",
    "]\n",
    "\n",
    "specific_number = 123\n",
    "\n",
    "for string in test_strings:\n",
    "    if starts_with_number(string, specific_number):\n",
    "        print(f\"'{string}' starts with {specific_number}.\")\n",
    "    else:\n",
    "        print(f\"'{string}' does not start with {specific_number}.\")\n"
   ]
  },
  {
   "cell_type": "markdown",
   "id": "1b738bae",
   "metadata": {},
   "source": [
    "Question 13- Write a Python program to remove leading zeros from an IP address"
   ]
  },
  {
   "cell_type": "code",
   "execution_count": 114,
   "id": "44e26a48",
   "metadata": {},
   "outputs": [
    {
     "name": "stdout",
     "output_type": "stream",
     "text": [
      "192.168.1.1\n"
     ]
    }
   ],
   "source": [
    "def remove_leading_zeros(ip_address):\n",
    "    parts = ip_address.split('.')\n",
    "    cleaned_parts = [str(int(part)) for part in parts]\n",
    "    cleaned_ip = '.'.join(cleaned_parts)\n",
    "    return cleaned_ip\n",
    "\n",
    "ip_address = \"192.168.001.001\"\n",
    "cleaned_ip = remove_leading_zeros(ip_address)\n",
    "print(cleaned_ip)"
   ]
  },
  {
   "cell_type": "markdown",
   "id": "8fe0773a",
   "metadata": {},
   "source": [
    "Question 14- Write a regular expression in python to match a date string in the form of Month name followed by day number and year stored in a text file."
   ]
  },
  {
   "cell_type": "code",
   "execution_count": 115,
   "id": "5b6bb2bf",
   "metadata": {},
   "outputs": [
    {
     "name": "stdout",
     "output_type": "stream",
     "text": [
      "August 15th 1947\n"
     ]
    }
   ],
   "source": [
    "import re\n",
    "\n",
    "sample_text = \"On August 15th 1947 that India was declared independent from British colonialism, and the reins of control were handed over to the leaders of the Country.\"\n",
    "\n",
    "pattern = r'\\b(?:January|February|March|April|May|June|July|August|September|October|November|December)\\s+\\d{1,2}(?:st|nd|rd|th)?\\s+\\d{4}\\b'\n",
    "\n",
    "matches = re.findall(pattern, sample_text)\n",
    "\n",
    "if matches:\n",
    "    print(matches[0])  # Output: August 15th 1947\n",
    "else:\n",
    "    print(\"No match found.\")"
   ]
  },
  {
   "cell_type": "code",
   "execution_count": null,
   "id": "b3da75a8",
   "metadata": {},
   "outputs": [],
   "source": [
    "Question 15- Write a Python program to search some literals strings in a string. "
   ]
  },
  {
   "cell_type": "code",
   "execution_count": 116,
   "id": "682994ef",
   "metadata": {},
   "outputs": [
    {
     "name": "stdout",
     "output_type": "stream",
     "text": [
      "'fox' found in the text.\n",
      "'dog' found in the text.\n",
      "'horse' not found in the text.\n"
     ]
    }
   ],
   "source": [
    "def search_literals(input_string, searched_words):\n",
    "    results = {}\n",
    "    \n",
    "    for word in searched_words:\n",
    "        if word in input_string:\n",
    "            results[word] = True\n",
    "        else:\n",
    "            results[word] = False\n",
    "    \n",
    "    return results\n",
    "\n",
    "sample_text = 'The quick brown fox jumps over the lazy dog.'\n",
    "searched_words = ['fox', 'dog', 'horse']\n",
    "\n",
    "search_results = search_literals(sample_text, searched_words)\n",
    "\n",
    "for word, found in search_results.items():\n",
    "    if found:\n",
    "         print(f\"'{word}' found in the text.\")\n",
    "    else:\n",
    "        print(f\"'{word}' not found in the text.\")"
   ]
  },
  {
   "cell_type": "raw",
   "id": "e46f11c6",
   "metadata": {},
   "source": [
    "Question 16- Write a Python program to search a literals string in a string and also find the location within the original string where the pattern occurs"
   ]
  },
  {
   "cell_type": "code",
   "execution_count": 117,
   "id": "f31df1ab",
   "metadata": {},
   "outputs": [
    {
     "name": "stdout",
     "output_type": "stream",
     "text": [
      "fox\n"
     ]
    }
   ],
   "source": [
    "def search_literal_with_location(input_string, target_literal):\n",
    "    locations = []\n",
    "    index = input_string.find(target_literal)\n",
    "    \n",
    "    while index != -1:\n",
    "        locations.append(index)\n",
    "        index = input_string.find(target_literal, index + 1)\n",
    "    \n",
    "    return locations\n",
    "\n",
    "sample_text = \"The quick brown fox jumps over the lazy dog.\"\n",
    "target_literal = \"fox\"\n",
    "\n",
    "matching_locations = search_literal_with_location(sample_text, target_literal)\n",
    "\n",
    "if matching_locations:\n",
    "    print(target_literal)\n",
    "    \n"
   ]
  },
  {
   "cell_type": "markdown",
   "id": "074fb02e",
   "metadata": {},
   "source": [
    "Question 17- Write a Python program to find the substrings within a string."
   ]
  },
  {
   "cell_type": "code",
   "execution_count": 118,
   "id": "b6861f9b",
   "metadata": {},
   "outputs": [
    {
     "name": "stdout",
     "output_type": "stream",
     "text": [
      "'exercises' found at the following locations:\n",
      "Location: 7 - 'exercises'\n",
      "Location: 22 - 'exercises'\n",
      "Location: 36 - 'exercises'\n"
     ]
    }
   ],
   "source": [
    "def find_substrings(input_string, pattern):\n",
    "    start = 0\n",
    "    locations = []\n",
    "    \n",
    "    while start < len(input_string):\n",
    "        index = input_string.find(pattern, start)\n",
    "        if index == -1:\n",
    "            break\n",
    "        locations.append(index)\n",
    "        start = index + 1\n",
    "    \n",
    "    return locations\n",
    "\n",
    "sample_text = 'Python exercises, PHP exercises, C# exercises'\n",
    "pattern = 'exercises'\n",
    "\n",
    "matching_locations = find_substrings(sample_text, pattern)\n",
    "\n",
    "if matching_locations:\n",
    "    print(f\"'{pattern}' found at the following locations:\")\n",
    "    for location in matching_locations:\n",
    "        print(f\"Location: {location} - '{sample_text[location:location+len(pattern)]}'\")\n",
    "else:\n",
    "    print(f\"'{pattern}' not found in the text.\")\n"
   ]
  },
  {
   "cell_type": "markdown",
   "id": "c8c8a3dd",
   "metadata": {},
   "source": [
    "Question 18- Write a Python program to find the occurrence and position of the substrings within a string."
   ]
  },
  {
   "cell_type": "code",
   "execution_count": null,
   "id": "d094adad",
   "metadata": {},
   "outputs": [],
   "source": []
  },
  {
   "cell_type": "markdown",
   "id": "5071dc5d",
   "metadata": {},
   "source": [
    "Question 19- Write a Python program to convert a date of yyyy-mm-dd format to dd-mm-yyyy format."
   ]
  },
  {
   "cell_type": "code",
   "execution_count": 119,
   "id": "56004495",
   "metadata": {},
   "outputs": [
    {
     "name": "stdout",
     "output_type": "stream",
     "text": [
      "Original date: 2023-08-27\n",
      "Converted date: 27-08-2023\n"
     ]
    }
   ],
   "source": [
    "def convert_date_format(input_date):\n",
    "    parts = input_date.split('-')\n",
    "    \n",
    "    if len(parts) == 3:\n",
    "        year, month, day = parts\n",
    "        new_date = f\"{day}-{month}-{year}\"\n",
    "        return new_date\n",
    "    else:\n",
    "        return \"Invalid date format.\"\n",
    "\n",
    "date_in_yyyy_mm_dd = \"2023-08-27\"\n",
    "converted_date = convert_date_format(date_in_yyyy_mm_dd)\n",
    "\n",
    "print(\"Original date:\", date_in_yyyy_mm_dd)\n",
    "print(\"Converted date:\", converted_date)\n"
   ]
  },
  {
   "cell_type": "markdown",
   "id": "22908e22",
   "metadata": {},
   "source": [
    "Que 20 - Create a function in python to find all decimal numbers with a precision of 1 or 2 in a string. The use of the re.compile() method is mandatory."
   ]
  },
  {
   "cell_type": "code",
   "execution_count": 120,
   "id": "bef38a6a",
   "metadata": {},
   "outputs": [
    {
     "name": "stdout",
     "output_type": "stream",
     "text": [
      "['01.12', '145.8', '3.01', '27.25', '0.25']\n"
     ]
    }
   ],
   "source": [
    "import re\n",
    "\n",
    "def find_float_numbers(input_string):\n",
    "    pattern = re.compile(r'\\b\\d+\\.\\d{1,2}\\b')\n",
    "    float_numbers = pattern.findall(input_string)\n",
    "    return float_numbers\n",
    "\n",
    "sample_text = \"01.12 0132.123 2.31875 145.8 3.01 27.25 0.25\"\n",
    "result = find_float_numbers(sample_text)\n",
    "print(result)\n"
   ]
  },
  {
   "cell_type": "markdown",
   "id": "a54859c1",
   "metadata": {},
   "source": [
    "Question 21- Write a Python program to separate and print the numbers and their position of a given string."
   ]
  },
  {
   "cell_type": "code",
   "execution_count": 121,
   "id": "613e51f7",
   "metadata": {},
   "outputs": [
    {
     "name": "stdout",
     "output_type": "stream",
     "text": [
      "Number: 123, Position: 29\n",
      "Number: 23, Position: 30\n",
      "Number: 3, Position: 31\n",
      "Number: 45.67, Position: 46\n",
      "Number: 5.67, Position: 47\n",
      "Number: 67, Position: 49\n",
      "Number: 7, Position: 50\n",
      "Number: 890., Position: 56\n",
      "Number: 90., Position: 57\n",
      "Number: 0., Position: 58\n"
     ]
    }
   ],
   "source": [
    "def separate_numbers_with_positions(input_string):\n",
    "    numbers = []\n",
    "    \n",
    "    for index, char in enumerate(input_string):\n",
    "        if char.isdigit():\n",
    "            start = index\n",
    "            while index < len(input_string) and (input_string[index].isdigit() or input_string[index] == '.'):\n",
    "                index += 1\n",
    "            end = index\n",
    "            number = input_string[start:end]\n",
    "            numbers.append((number, start))\n",
    "    \n",
    "    return numbers\n",
    "\n",
    "sample_text = \"This is a sample string with 123 numbers like 45.67 and 890.\"\n",
    "number_positions = separate_numbers_with_positions(sample_text)\n",
    "\n",
    "for number, position in number_positions:\n",
    "    print(f\"Number: {number}, Position: {position}\")\n"
   ]
  },
  {
   "cell_type": "markdown",
   "id": "3bd0ecbc",
   "metadata": {},
   "source": [
    "Question 22- Write a regular expression in python program to extract maximum/largest numeric value from a string."
   ]
  },
  {
   "cell_type": "code",
   "execution_count": 122,
   "id": "340ac857",
   "metadata": {},
   "outputs": [
    {
     "name": "stdout",
     "output_type": "stream",
     "text": [
      "950\n"
     ]
    }
   ],
   "source": [
    "import re\n",
    "\n",
    "def extract_maximum_numeric_value(input_string):\n",
    "    pattern = r'\\b\\d+\\b'\n",
    "    numbers = [int(match) for match in re.findall(pattern, input_string)]\n",
    "    if numbers:\n",
    "        max_number = max(numbers)\n",
    "        return max_number\n",
    "    else:\n",
    "        return None\n",
    "\n",
    "sample_text = 'My marks in each semester are: 947, 896, 926, 524, 734, 950, 642'\n",
    "max_value = extract_maximum_numeric_value(sample_text)\n",
    "\n",
    "if max_value is not None:\n",
    "    print(max_value)\n",
    "\n"
   ]
  },
  {
   "cell_type": "markdown",
   "id": "497f6946",
   "metadata": {},
   "source": [
    "Question 23- Create a function in python to insert spaces between words starting with capital letters."
   ]
  },
  {
   "cell_type": "code",
   "execution_count": 123,
   "id": "d10d278f",
   "metadata": {},
   "outputs": [
    {
     "name": "stdout",
     "output_type": "stream",
     "text": [
      "Regular Expression Is An Important Topic In Python\n"
     ]
    }
   ],
   "source": [
    "import re\n",
    "\n",
    "def insert_spaces_between_capital_words(input_string):\n",
    "    words = re.findall(r'[A-Z][a-z]*', input_string)\n",
    "    spaced_string = ' '.join(words)\n",
    "    return spaced_string\n",
    "\n",
    "sample_text = \"RegularExpressionIsAnImportantTopicInPython\"\n",
    "result = insert_spaces_between_capital_words(sample_text)\n",
    "print(result)\n"
   ]
  },
  {
   "cell_type": "markdown",
   "id": "13f98a1d",
   "metadata": {},
   "source": [
    "Question 24- Python regex to find sequences of one upper case letter followed by lower case letters"
   ]
  },
  {
   "cell_type": "code",
   "execution_count": 126,
   "id": "018ede0d",
   "metadata": {},
   "outputs": [
    {
     "name": "stdout",
     "output_type": "stream",
     "text": [
      "['Vikram', 'Sayaji', 'Karande']\n"
     ]
    }
   ],
   "source": [
    "import re\n",
    "\n",
    "pattern = r'[A-Z][a-z]+'\n",
    "\n",
    "string = 'Vikram Sayaji Karande'\n",
    "\n",
    "matches = re.findall(pattern, string)\n",
    "\n",
    "print(matches)"
   ]
  },
  {
   "cell_type": "markdown",
   "id": "f6573939",
   "metadata": {},
   "source": [
    "Question 25- Write a Python program to remove continuous duplicate words from Sentence using Regular Expression."
   ]
  },
  {
   "cell_type": "code",
   "execution_count": 127,
   "id": "3243223c",
   "metadata": {},
   "outputs": [
    {
     "name": "stdout",
     "output_type": "stream",
     "text": [
      "Hello hello world world\n"
     ]
    }
   ],
   "source": [
    "import re\n",
    "def remove_continuous_duplicates(text):\n",
    "\n",
    "pattern = r'((\\b\\w+\\b)(\\s+\\2)+)'\n",
    " \n",
    "return re.sub(pattern, r'\\1', text)\n",
    "\n",
    "text = \"Hello hello world world\"\n",
    "\n",
    "result = remove_continuous_duplicates(text)\n",
    "\n",
    "print(result)"
   ]
  },
  {
   "cell_type": "markdown",
   "id": "d1c564b7",
   "metadata": {},
   "source": [
    "Question 26-  Write a python program using RegEx to accept string ending with alphanumeric character."
   ]
  },
  {
   "cell_type": "code",
   "execution_count": 128,
   "id": "e9dd6729",
   "metadata": {},
   "outputs": [
    {
     "name": "stdout",
     "output_type": "stream",
     "text": [
      "Vikram123\n"
     ]
    }
   ],
   "source": [
    "import re\n",
    "\n",
    "def validate_ending_alphanumeric(input_string):\n",
    "    pattern = r'\\w$'\n",
    "    if re.search(pattern, input_string):\n",
    "        return True\n",
    "    else:\n",
    "        return False\n",
    "\n",
    "sample_string = \"Vikram123\"\n",
    "if validate_ending_alphanumeric(sample_string):\n",
    "    print(sample_string)\n",
    "   "
   ]
  },
  {
   "cell_type": "code",
   "execution_count": null,
   "id": "7d552a01",
   "metadata": {},
   "outputs": [],
   "source": [
    "Question 27-Write a python program using RegEx to extract the hashtags."
   ]
  },
  {
   "cell_type": "code",
   "execution_count": 129,
   "id": "4a679095",
   "metadata": {},
   "outputs": [
    {
     "name": "stdout",
     "output_type": "stream",
     "text": [
      "Extracted hashtags: ['#Doltiwal', '#xyzabc', '#Demonetization']\n"
     ]
    }
   ],
   "source": [
    "import re\n",
    "\n",
    "def extract_hashtags(input_text):\n",
    "    pattern = r'#\\w+'\n",
    "    hashtags = re.findall(pattern, input_text)\n",
    "    return hashtags\n",
    "\n",
    "sample_text = \"\"\"RT @kapil_kausik: #Doltiwal I mean #xyzabc is \"hurt\" by #Demonetization as the same has rendered USELESS <ed><U+00A0><U+00BD><ed><U+00B1><U+0089> \"acquired funds\" No wo\"\"\"\n",
    "hashtags = extract_hashtags(sample_text)\n",
    "\n",
    "if hashtags:\n",
    "    print(\"Extracted hashtags:\", hashtags)\n",
    "else:\n",
    "    print(\"No hashtags found in the text.\")\n",
    "\n",
    "\n",
    "\n"
   ]
  },
  {
   "cell_type": "markdown",
   "id": "f650065a",
   "metadata": {},
   "source": [
    "Question 28- Write a python program using RegEx to remove <U+..> like symbols\n",
    "Check the below sample text, there are strange symbols something of the sort <U+..> all over the place. You need to come up with a general Regex expression that will cover all such symbols.\n"
   ]
  },
  {
   "cell_type": "code",
   "execution_count": 130,
   "id": "69898980",
   "metadata": {},
   "outputs": [
    {
     "name": "stdout",
     "output_type": "stream",
     "text": [
      "RT @kapil_kausik: #Doltiwal I mean #xyzabc is \"hurt\" by #Demonetization as the same has rendered USELESS <ed><U+00A0><U+00BD><ed><U+00B1><U+0089> \"acquired funds\" No wo\n"
     ]
    }
   ],
   "source": [
    "import re\n",
    "\n",
    "def remove_special_symbols(input_text):\n",
    "    pattern = r'<U\\+[\\w\\d]+>'\n",
    "    cleaned_text = re.sub(pattern, '', input_text)\n",
    "   \n",
    "    (sample_text) = \"@Jags123456 Bharat band on 28??<ed><U+00A0><U+00BD><ed><U+00B8><U+0082>Those who  are protesting #demonetization  are all different party leaders\"\n",
    "\n",
    "print(sample_text)\n",
    "\n"
   ]
  },
  {
   "cell_type": "markdown",
   "id": "98675be8",
   "metadata": {},
   "source": [
    "Question 29- Write a python program to extract dates from the text stored in the text file.\n",
    "Sample Text: Ron was born on 12-09-1992 and he was admitted to school 15-12-1999.\n",
    "Note- Store this sample text in the file and then extract dates.\n"
   ]
  },
  {
   "cell_type": "code",
   "execution_count": null,
   "id": "411eac84",
   "metadata": {},
   "outputs": [],
   "source": []
  },
  {
   "cell_type": "markdown",
   "id": "ccbba642",
   "metadata": {},
   "source": [
    "Question 30- Create a function in python to remove all words from a string of length between 2 and 4."
   ]
  },
  {
   "cell_type": "code",
   "execution_count": 132,
   "id": "8388ac56",
   "metadata": {},
   "outputs": [
    {
     "name": "stdout",
     "output_type": "stream",
     "text": [
      " following example creates  ArrayList  a capacity   elements. 4 elements   added   ArrayList   ArrayList  trimmed accordingly.\n"
     ]
    }
   ],
   "source": [
    "import re\n",
    "\n",
    "def remove_words_of_length_between_2_and_4(input_string):\n",
    "    pattern = re.compile(r'\\b\\w{2,4}\\b')\n",
    "    modified_text = pattern.sub('', input_string)\n",
    "    return modified_text\n",
    "\n",
    "sample_text = \"The following example creates an ArrayList with a capacity of 50 elements. 4 elements are then added to the ArrayList and the ArrayList is trimmed accordingly.\"\n",
    "result = remove_words_of_length_between_2_and_4(sample_text)\n",
    "print(result)\n"
   ]
  },
  {
   "cell_type": "code",
   "execution_count": null,
   "id": "47bbc9ab",
   "metadata": {},
   "outputs": [],
   "source": []
  },
  {
   "cell_type": "code",
   "execution_count": null,
   "id": "58cef31e",
   "metadata": {},
   "outputs": [],
   "source": []
  },
  {
   "cell_type": "code",
   "execution_count": null,
   "id": "180f9416",
   "metadata": {},
   "outputs": [],
   "source": []
  },
  {
   "cell_type": "code",
   "execution_count": null,
   "id": "18a495f0",
   "metadata": {},
   "outputs": [],
   "source": []
  }
 ],
 "metadata": {
  "kernelspec": {
   "display_name": "Python 3 (ipykernel)",
   "language": "python",
   "name": "python3"
  },
  "language_info": {
   "codemirror_mode": {
    "name": "ipython",
    "version": 3
   },
   "file_extension": ".py",
   "mimetype": "text/x-python",
   "name": "python",
   "nbconvert_exporter": "python",
   "pygments_lexer": "ipython3",
   "version": "3.10.9"
  }
 },
 "nbformat": 4,
 "nbformat_minor": 5
}
